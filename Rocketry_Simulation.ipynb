{
 "cells": [
  {
   "cell_type": "markdown",
   "id": "cd146987",
   "metadata": {},
   "source": [
    "# Simulation of a Rocket Flight\n",
    "#### Hope is to make a workable simulation of a rocket's flight to explain physics priciples to my physics of rocketry flight. Thought it may be a good place to practice some math and real time data visulation. "
   ]
  },
  {
   "cell_type": "markdown",
   "id": "5ef19d61",
   "metadata": {},
   "source": [
    "Let's do a test flight with a super simple physics simulation. We will do a super basic projectile problem of a rocket.\n",
    "\n",
    "Define the problem: A rocket is shot up into the air with a mass X and the engine exerts a force of XX on the rocket for the duration of the rocket's booting through flight. Once the rocket engine burns out, the rocket is then in free fall until it reaches the ground. \n",
    "\n",
    "mass = m\n",
    "\n",
    "velocity = v\n",
    "\n",
    "force = F\n",
    "\n",
    "acceleration of rocket = a \n",
    "\n",
    "acceleration due to gravity = g = 9.8 m/s^2\n",
    "\n",
    "t = time\n",
    "\n",
    "∆t = timestep \n",
    "\n"
   ]
  },
  {
   "cell_type": "code",
   "execution_count": 1,
   "id": "cb523e0f",
   "metadata": {},
   "outputs": [],
   "source": [
    "import numpy as np\n",
    "import matplotlib as plt\n",
    "import seaborn as sns\n",
    "import pandas as pd\n",
    "import ipywidgets as widgets"
   ]
  },
  {
   "cell_type": "code",
   "execution_count": 4,
   "id": "9a5370ac",
   "metadata": {},
   "outputs": [],
   "source": [
    "def append_all(time, y_position, velocity, force, acceleration):\n",
    "    a_data.append(acceleration)\n",
    "    y_data.append(y_position)\n",
    "    v_data.append(velocity)\n",
    "    t_data.append(time)\n",
    "    f_data.append(force)\n",
    "    \n",
    "\n",
    "def velocity(initial_velocity, acceleration, time_step):\n",
    "    v = (initial_velocity + acceleration*time_step)\n",
    "    return v\n",
    "\n",
    "def net_force_during_thrust(thrust, drag, weight):\n",
    "    force = thrust - drag - weight\n",
    "    return force\n",
    "    \n",
    "def net_force_after_thrust(drag, weight):\n",
    "    force = -drag - weight\n",
    "    return force\n",
    "    \n",
    "def mass(rocket_mass, total_fuel, fuel_consumption_rate): \n",
    "    m = rocket_mass\n",
    "    return m\n",
    "\n",
    "def acceleration(force, mass):\n",
    "    return force / mass\n",
    "    "
   ]
  },
  {
   "cell_type": "code",
   "execution_count": 8,
   "id": "0c6ff289",
   "metadata": {},
   "outputs": [
    {
     "name": "stdout",
     "output_type": "stream",
     "text": [
      "Mass of Rocket (Value between 1 and 100): -10\n",
      "Invalid integer. The number must be in the range of 1-10.\n",
      "Mass of Rocket (Value between 1 and 100): 120\n",
      "Invalid integer. The number must be in the range of 1-10.\n",
      "Mass of Rocket (Value between 1 and 100): cat\n",
      "Invalid integer. The number must be in the range of 1-10.\n",
      "Mass of Rocket (Value between 1 and 100): 56\n"
     ]
    }
   ],
   "source": [
    "# Asking users to input variables. \n",
    "\n",
    "while True:\n",
    "    try:\n",
    "        mass = int(input('Mass of Rocket (Value between 1 and 100): '))\n",
    "        if mass < 1 or mass > 100:\n",
    "            raise ValueError #this will send it to the print message and back to the input option\n",
    "        break\n",
    "    except ValueError:\n",
    "        print(\"Invalid integer. The number must be in the range of 1-10.\")"
   ]
  },
  {
   "cell_type": "code",
   "execution_count": 7,
   "id": "f4463f51",
   "metadata": {},
   "outputs": [
    {
     "data": {
      "image/png": "[encoded data removed]",
      "text/plain": [
       "<Figure size 432x288 with 1 Axes>"
      ]
     },
     "metadata": {
      "needs_background": "light"
     },
     "output_type": "display_data"
    }
   ],
   "source": [
    "\n",
    "\n",
    "y = 0\n",
    "v = 0\n",
    "a = 0\n",
    "g = 9.81\n",
    "t = 0\n",
    "F = 100 - 2*t\n",
    "time_of_force = 3\n",
    "t_step = 0.1\n",
    "\n",
    "\n",
    "a_data = []\n",
    "y_data = []\n",
    "v_data = []\n",
    "t_data = []\n",
    "f_data = []\n",
    "\n",
    "while t < 10: \n",
    "    if t <= time_of_force:\n",
    "        F = 100\n",
    "        a = F/mass\n",
    "        y = (y + v*t_step + 1/2*a*t_step**2)\n",
    "        v = velocity(v, a, t_step)\n",
    "        t += t_step\n",
    "        append_all(t, y, v, F, a)\n",
    "    else:\n",
    "        a = -g\n",
    "        y = (y + v*t_step + 1/2*a*t_step**2)\n",
    "        v = (v + a*t_step)\n",
    "        t += t_step\n",
    "        append_all(t, y, v, F, a)\n",
    "\n",
    "        \n",
    "data_list = [y_data, v_data, a_data]\n",
    "data_headings = ['position', 'velocity', 'acceleration']\n",
    "\n",
    "df = pd.DataFrame({\"Time\":t_data})\n",
    "\n",
    "for i in range(len(data_list)):\n",
    "    df[data_headings[i]] = data_list[i]\n",
    "    \n",
    "# print(df.sample(5))\n",
    "sns.scatterplot(data = df, x='Time', y='position')\n",
    "plt.pyplot.show()\n"
   ]
  },
  {
   "cell_type": "code",
   "execution_count": null,
   "id": "a8b20597",
   "metadata": {},
   "outputs": [],
   "source": []
  },
  {
   "cell_type": "code",
   "execution_count": null,
   "id": "a9a4f4f9",
   "metadata": {},
   "outputs": [],
   "source": []
  },
  {
   "cell_type": "code",
   "execution_count": null,
   "id": "8fcedcd0",
   "metadata": {},
   "outputs": [],
   "source": []
  },
  {
   "cell_type": "code",
   "execution_count": null,
   "id": "a388f806",
   "metadata": {},
   "outputs": [],
   "source": []
  },
  {
   "cell_type": "code",
   "execution_count": null,
   "id": "22390061",
   "metadata": {},
   "outputs": [],
   "source": []
  },
  {
   "cell_type": "code",
   "execution_count": null,
   "id": "555df530",
   "metadata": {},
   "outputs": [],
   "source": []
  },
  {
   "cell_type": "code",
   "execution_count": null,
   "id": "5f79af85",
   "metadata": {},
   "outputs": [],
   "source": []
  }
 ],
 "metadata": {
  "kernelspec": {
   "display_name": "Python 3 (ipykernel)",
   "language": "python",
   "name": "python3"
  },
  "language_info": {
   "codemirror_mode": {
    "name": "ipython",
    "version": 3
   },
   "file_extension": ".py",
   "mimetype": "text/x-python",
   "name": "python",
   "nbconvert_exporter": "python",
   "pygments_lexer": "ipython3",
   "version": "3.9.5"
  }
 },
 "nbformat": 4,
 "nbformat_minor": 5
}
