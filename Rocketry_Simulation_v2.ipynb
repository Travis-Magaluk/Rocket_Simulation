{
 "cells": [
  {
   "cell_type": "markdown",
   "id": "cd146987",
   "metadata": {},
   "source": [
    "# Simulation of a Rocket Flight\n",
    "#### Hope is to make a workable simulation of a rocket's flight to explain physics priciples to my physics of rocketry flight. Thought it may be a good place to practice some math and real time data visulation. "
   ]
  },
  {
   "cell_type": "markdown",
   "id": "5ef19d61",
   "metadata": {},
   "source": [
    "Let's do a test flight with a super simple physics simulation. We will do a super basic projectile problem of a rocket.\n",
    "\n",
    "Define the problem: A rocket is shot up into the air with a mass X and the engine exerts a force of XX on the rocket for the duration of the rocket's booting through flight. Once the rocket engine burns out, the rocket is then in free fall until it reaches the ground. \n",
    "\n",
    "mass = m\n",
    "\n",
    "velocity = v\n",
    "\n",
    "force = F\n",
    "\n",
    "acceleration of rocket = a \n",
    "\n",
    "acceleration due to gravity = g = 9.8 m/s^2\n",
    "\n",
    "t = time\n",
    "\n",
    "∆t = timestep \n",
    "\n"
   ]
  },
  {
   "cell_type": "code",
   "execution_count": 40,
   "id": "cb523e0f",
   "metadata": {},
   "outputs": [],
   "source": [
    "import numpy as np\n",
    "import matplotlib as plt\n",
    "import seaborn as sns\n",
    "import pandas as pd\n",
    "import ipywidgets as widgets"
   ]
  },
  {
   "cell_type": "code",
   "execution_count": 41,
   "id": "9a5370ac",
   "metadata": {},
   "outputs": [],
   "source": [
    "def append_all(time, \n",
    "               mass, \n",
    "               y_position, \n",
    "               y_velocity, \n",
    "               net_force, \n",
    "               acceleration, \n",
    "               thrust,\n",
    "               weight,\n",
    "               drag,\n",
    "               air_density):\n",
    "    \n",
    "    time_data.append(time)\n",
    "    mass_data.append(mass)\n",
    "    y_position_data.append(y_position)\n",
    "    y_velocity_data.append(y_velocity)\n",
    "    net_force_data.append(net_force)\n",
    "    acceleration_data.append(acceleration)\n",
    "    thrust_data.append(thrust)\n",
    "    weight_data.append(weight)\n",
    "    drag_data.append(drag)\n",
    "    air_density_data.append(air_density)\n",
    "\n",
    "def velocity_calc(initial_velocity, acceleration, time_step):\n",
    "    velocity = (initial_velocity + acceleration * time_step)\n",
    "    return velocity\n",
    "\n",
    "def position_calc(position, velocity, acceleration, time_step):\n",
    "    position = (position + velocity * time_step + 1/2 * acceleration * time_step ** 2)\n",
    "    return position\n",
    "\n",
    "def net_force_during_thrust_calc(thrust, drag, weight):\n",
    "    net_force = thrust - (drag + weight)\n",
    "    return net_force\n",
    "    \n",
    "def net_force_after_thrust_calc(drag, weight, velocity):\n",
    "    if velocity > 0:\n",
    "        net_force = -1 * (drag + weight)\n",
    "    else:\n",
    "        net_force = drag - weight\n",
    "    return net_force\n",
    "    \n",
    "def mass_calc(rocket_mass, total_fuel_mass, fuel_consumption_rate, time):\n",
    "    remaining_fuel = total_fuel_mass - (fuel_consumption_rate * time)\n",
    "    if remaining_fuel > 0:\n",
    "        mass = rocket_mass + (total_fuel_mass - fuel_consumption_rate * time)\n",
    "    else: \n",
    "        mass = rocket_mass\n",
    "    return mass\n",
    "\n",
    "def acceleration_calc(force, mass):\n",
    "    acceleration = net_force / mass\n",
    "    return acceleration\n",
    "    \n",
    "def weight_calc(mass):\n",
    "    weight = mass * g\n",
    "    return weight\n",
    "\n",
    "def air_density_calc(y_position): #Works generally up to 25000m\n",
    "    air_density = 1.31 * np.exp(-1.23*10**(-4)*y_position)\n",
    "    return air_density\n",
    "    \n",
    "def drag_calc(drag_coeficient, air_density, cross_sectional_area, velocity):\n",
    "    drag = 0.5 * drag_coeficient * air_density * cross_sectional_area * velocity ** 2\n",
    "    return drag\n",
    "\n",
    "def thrust_calc(thrust_force):\n",
    "    thrust = thrust_force\n",
    "    return thrust\n",
    "\n"
   ]
  },
  {
   "cell_type": "code",
   "execution_count": 50,
   "id": "f4463f51",
   "metadata": {
    "scrolled": true
   },
   "outputs": [
    {
     "name": "stdout",
     "output_type": "stream",
     "text": [
      "      Time      position    velocity  acceleration         drag  air_density\n",
      "312  156.5  20551.879931 -605.260259     -8.855180   190.963988     0.100767\n",
      "313  157.0  20248.142904 -609.687849     -8.804366   201.126848     0.104575\n",
      "314  157.5  19942.198434 -614.090032     -8.750756   211.848747     0.108555\n",
      "315  158.0  19634.059573 -618.465410     -8.694196   223.160808     0.112718\n",
      "316  158.5  19323.740094 -622.812508     -8.634521   235.095811     0.117072\n",
      "317  159.0  19011.254525 -627.129768     -8.571559   247.688262     0.121627\n",
      "318  159.5  18696.618196 -631.415548     -8.505128   260.974474     0.126393\n",
      "319  160.0  18379.847281 -635.668111     -8.435037   274.992630     0.131381\n",
      "320  160.5  18060.958846 -639.885630     -8.361086   289.782864     0.136601\n",
      "321  161.0  17739.970895 -644.066173     -8.283063   305.387332     0.142065\n",
      "322  161.5  17416.902426 -648.207704     -8.200749   321.850278     0.147786\n",
      "323  162.0  17091.773480 -652.308079     -8.113909   339.218109     0.153777\n",
      "324  162.5  16764.605202 -656.365033     -8.022303   357.539457     0.160051\n",
      "325  163.0  16435.419898 -660.376185     -7.925674   376.865240     0.166623\n",
      "326  163.5  16104.241096 -664.339022     -7.823756   397.248721     0.173508\n",
      "327  164.0  15771.093616 -668.250900     -7.716272   418.745555     0.180722\n",
      "328  164.5  15436.003632 -672.109036     -7.602931   441.413829     0.188281\n",
      "329  165.0  15098.998748 -675.910501     -7.483430   465.314097     0.196204\n",
      "330  165.5  14760.108068 -679.652216     -7.357453   490.509396     0.204508\n",
      "331  166.0  14419.362279 -683.330943     -7.224674   517.065254     0.213212\n",
      "332  166.5  14076.793723 -686.943279     -7.084752   545.049679     0.222338\n",
      "333  167.0  13732.436489 -690.485655     -6.937334   574.533128     0.231907\n",
      "334  167.5  13386.326495 -693.954322     -6.782058   605.588458     0.241941\n",
      "335  168.0  13038.501576 -697.345351     -6.618546   638.290850     0.252463\n",
      "336  168.5  12689.001583 -700.654624     -6.446411   672.717704     0.263498\n",
      "337  169.0  12337.868469 -703.877830     -6.265257   708.948503     0.275073\n",
      "338  169.5  11985.146397 -707.010459     -6.074677   747.064645     0.287213\n",
      "339  170.0  11630.881833 -710.047797     -5.874254   787.149227     0.299948\n",
      "340  170.5  11275.123653 -712.984924     -5.663566   829.286792     0.313307\n",
      "341  171.0  10917.923245 -715.816707     -5.442185   873.563023     0.327321\n",
      "342  171.5  10559.334618 -718.537799     -5.209678   920.064386     0.342023\n",
      "343  172.0  10199.414509 -721.142638     -4.965611   968.877711     0.357446\n",
      "344  172.5   9838.222488 -723.625444     -4.709551  1020.089711     0.373626\n",
      "345  173.0   9475.821072 -725.980220     -4.441068  1073.786431     0.390599\n",
      "346  173.5   9112.275829 -728.200754     -4.159737  1130.052625     0.408404\n",
      "347  174.0   8747.655485 -730.280622     -3.865145  1188.971052     0.427080\n",
      "348  174.5   8382.032030 -732.213195     -3.556892  1250.621690     0.446670\n",
      "349  175.0   8015.480822 -733.991640     -3.234596  1315.080865     0.467216\n",
      "350  175.5   7648.080677 -735.608938     -2.897899  1382.420287     0.488763\n",
      "351  176.0   7279.913970 -737.057888     -2.546470  1452.705994     0.511357\n",
      "352  176.5   6911.066718 -738.331123     -2.180014  1525.997211     0.535046\n",
      "353  177.0   6541.628655 -739.421130     -1.798274  1602.345108     0.559879\n",
      "354  177.5   6171.693306 -740.320267     -1.401043  1681.791470     0.585908\n",
      "355  178.0   5801.358042 -741.020788     -0.988164  1764.367290     0.613183\n",
      "356  178.5   5430.724128 -741.514870     -0.559544  1850.091273     0.641761\n",
      "357  179.0   5059.896750 -741.794642     -0.115159  1938.968283     0.671694\n",
      "358  179.5   4688.985034 -741.852221      0.344939  2030.987725     0.703041\n",
      "359  180.0   4318.102041 -741.679752      0.820610  2126.121903     0.735858\n",
      "360  180.5   3947.364741 -741.269447      1.311622  2224.324339     0.770204\n",
      "361  181.0   3576.893970 -740.613636      1.817641  2325.528124     0.806139\n",
      "362  181.5   3206.814357 -739.704816      2.338221  2429.644277     0.843723\n",
      "363  182.0   2837.254227 -738.535705      2.872801  2536.560192     0.883017\n",
      "364  182.5   2468.345475 -737.099305      3.420691  2646.138172     0.924081\n",
      "365  183.0   2100.223409 -735.388959      3.981071  2758.214119     0.966978\n",
      "366  183.5   1733.026563 -733.398424      4.552982  2872.596393     1.011768\n",
      "367  184.0   1366.896474 -731.121933      5.135325  2989.064917     1.058513\n",
      "368  184.5   1001.977423 -728.554271      5.726853  3107.370552     1.107271\n",
      "369  185.0    638.416144 -725.690844      6.326174  3227.234799     1.158104\n",
      "370  185.5    276.361494 -722.527757      6.931749  3348.349874     1.211067\n",
      "371  186.0    -84.035916 -719.061883      7.541896  3470.379199     1.266218\n"
     ]
    }
   ],
   "source": [
    "# These will not change. These will stay constant and be our starting values during each simulation. \n",
    "\n",
    "TIME = 0 #Starting Time\n",
    "POSITION = 0 #Starting Position\n",
    "VELOCITY = 0 #Starting Velocity\n",
    "ACCELERATION = 0 #Starting Acceleration\n",
    "g = 9.81 #Acceleration due to gravity (Approximate for up to 25000m)\n",
    "\n",
    "# Time step we will use in our calculations\n",
    "t_step = 0.5\n",
    "\n",
    "\n",
    "# The below values will change depending on what the user inputs. Will do this eventually. \n",
    "mass_of_rocket = 200 #kg\n",
    "mass_of_rocket_fuel = 20 #kg\n",
    "consumption_rate_of_fuel = 2 #kg/s\n",
    "time_of_force = mass_of_rocket_fuel / consumption_rate_of_fuel\n",
    "force_of_thrust = 22000 #N\n",
    "\n",
    "#More variables to change\n",
    "drag_coeficient = 0.15\n",
    "cross_sectional_area = 0.07\n",
    "\n",
    "\n",
    "\n",
    "time_data = []\n",
    "mass_data = []\n",
    "y_position_data = []\n",
    "y_velocity_data = []\n",
    "net_force_data = []\n",
    "acceleration_data = []\n",
    "thrust_data = []\n",
    "weight_data = []\n",
    "drag_data = []\n",
    "air_density_data = []\n",
    "\n",
    "while True: \n",
    "    if TIME <= time_of_force:\n",
    "        TIME += t_step\n",
    "        mass = mass_calc(mass_of_rocket, mass_of_rocket_fuel, consumption_rate_of_fuel, TIME)\n",
    "        weight = weight_calc(mass)\n",
    "        air_density = air_density_calc(POSITION)\n",
    "        drag = drag_calc(drag_coeficient, air_density, cross_sectional_area, VELOCITY)\n",
    "        thrust = thrust_calc(force_of_thrust)\n",
    "        POSITION = position_calc(POSITION, VELOCITY, ACCELERATION, t_step)\n",
    "        VELOCITY = velocity_calc(VELOCITY, ACCELERATION, t_step)\n",
    "        net_force = net_force_during_thrust_calc(force_of_thrust, drag, weight)\n",
    "        ACCELERATION = acceleration_calc(net_force, mass)\n",
    "        append_all(TIME, mass, POSITION, VELOCITY, net_force, ACCELERATION, thrust, weight, drag, air_density)\n",
    "    elif POSITION > 0: \n",
    "        TIME += t_step\n",
    "        mass = mass_calc(mass_of_rocket, mass_of_rocket_fuel, consumption_rate_of_fuel, TIME)\n",
    "        weight = weight_calc(mass)\n",
    "        air_density = air_density_calc(POSITION)\n",
    "        drag = drag_calc(drag_coeficient, air_density, cross_sectional_area, VELOCITY)\n",
    "        thrust = thrust_calc(force_of_thrust)\n",
    "        POSITION = position_calc(POSITION, VELOCITY, ACCELERATION, t_step)\n",
    "        VELOCITY = velocity_calc(VELOCITY, ACCELERATION, t_step)\n",
    "        net_force = net_force_after_thrust_calc(drag, weight, VELOCITY)\n",
    "        ACCELERATION = acceleration_calc(net_force, mass)\n",
    "        append_all(TIME, mass, POSITION, VELOCITY, net_force, ACCELERATION, thrust, weight, drag, air_density)\n",
    "    else:\n",
    "        break\n",
    "\n",
    "        \n",
    "data_list = [mass_data, \n",
    "             y_position_data,\n",
    "             y_velocity_data,\n",
    "             net_force_data,\n",
    "             acceleration_data,\n",
    "             thrust_data,\n",
    "             weight_data,\n",
    "             drag_data,\n",
    "             air_density_data]\n",
    "data_headings = ['mass', \n",
    "                 'position', \n",
    "                 'velocity', \n",
    "                 'net_force', \n",
    "                 'acceleration', \n",
    "                 'thrust', \n",
    "                 'weight', \n",
    "                 'drag', \n",
    "                 'air_density']\n",
    "\n",
    "simulation_data = pd.DataFrame({\"Time\":time_data})\n",
    "\n",
    "for i in range(len(data_list)):\n",
    "    simulation_data[data_headings[i]] = data_list[i]\n",
    "    \n",
    "print(simulation_data[['Time', 'position', 'velocity', 'acceleration', 'drag', 'air_density']].tail(60))\n",
    "\n",
    "\n",
    "\n"
   ]
  },
  {
   "cell_type": "code",
   "execution_count": 51,
   "id": "bb0280fc",
   "metadata": {},
   "outputs": [
    {
     "name": "stdout",
     "output_type": "stream",
     "text": [
      "\n",
      "    The maximum altitude of this flight was 39704.18 meters.\n",
      "    The maximum velocity of this flight was 939.96 meters/second.\n",
      "    The maximum acceleration of this flight was 91.95 meters/second^2.\n",
      "    \n",
      "\n",
      "    The maximum net force during this flight was 19861.42 Newtons.\n",
      "    The maximum drag during this flight was 3470.38 Newtons.\n",
      "    \n",
      " \n",
      "\n",
      "    The minimum air density of this flight was 0.009916 (Insert air density units here).\n",
      "\n"
     ]
    }
   ],
   "source": [
    "max_altitude = round(simulation_data['position'].max(), 2)\n",
    "max_velocity = round(simulation_data['velocity'].max(), 2)\n",
    "max_acceleration = round(simulation_data['acceleration'].max(), 2)\n",
    "\n",
    "max_net_force = round(simulation_data['net_force'].max(), 2)\n",
    "max_drag =  round(simulation_data['drag'].max(), 2)\n",
    "\n",
    "min_air_density = round(simulation_data['air_density'].min(), 6)\n",
    "\n",
    "print(f\"\"\"\n",
    "    The maximum altitude of this flight was {max_altitude} meters.\n",
    "    The maximum velocity of this flight was {max_velocity} meters/second.\n",
    "    The maximum acceleration of this flight was {max_acceleration} meters/second^2.\n",
    "    \\n\n",
    "    The maximum net force during this flight was {max_net_force} Newtons.\n",
    "    The maximum drag during this flight was {max_drag} Newtons.\n",
    "    \\n \\n\n",
    "    The minimum air density of this flight was {min_air_density} (Insert air density units here).\n",
    "\"\"\")"
   ]
  },
  {
   "cell_type": "code",
   "execution_count": 44,
   "id": "8e8f64c9",
   "metadata": {
    "scrolled": true
   },
   "outputs": [
    {
     "data": {
      "image/png": "[encoded data removed]",
      "text/plain": [
       "<Figure size 432x288 with 1 Axes>"
      ]
     },
     "metadata": {
      "needs_background": "light"
     },
     "output_type": "display_data"
    }
   ],
   "source": [
    "# Position Data\n",
    "sns.lineplot(data = simulation_data, x='Time', y=simulation_data['position'])\n",
    "plt.pyplot.show()"
   ]
  },
  {
   "cell_type": "code",
   "execution_count": 45,
   "id": "3ed6a06f",
   "metadata": {},
   "outputs": [
    {
     "data": {
      "image/png": "[encoded data removed]",
      "text/plain": [
       "<Figure size 432x288 with 1 Axes>"
      ]
     },
     "metadata": {
      "needs_background": "light"
     },
     "output_type": "display_data"
    }
   ],
   "source": [
    "# Velocity Data\n",
    "sns.lineplot(data = simulation_data, x='Time', y=simulation_data['velocity'])\n",
    "plt.pyplot.show()"
   ]
  },
  {
   "cell_type": "code",
   "execution_count": 46,
   "id": "97c01ab6",
   "metadata": {},
   "outputs": [
    {
     "data": {
      "image/png": "[encoded data removed]",
      "text/plain": [
       "<Figure size 432x288 with 1 Axes>"
      ]
     },
     "metadata": {
      "needs_background": "light"
     },
     "output_type": "display_data"
    }
   ],
   "source": [
    "# Acceleration Data\n",
    "sns.lineplot(data = simulation_data, x='Time', y=simulation_data['acceleration'])\n",
    "plt.pyplot.show()"
   ]
  },
  {
   "cell_type": "code",
   "execution_count": 47,
   "id": "b6a91f47",
   "metadata": {},
   "outputs": [
    {
     "data": {
      "image/png": "[encoded data removed]",
      "text/plain": [
       "<Figure size 432x288 with 1 Axes>"
      ]
     },
     "metadata": {
      "needs_background": "light"
     },
     "output_type": "display_data"
    }
   ],
   "source": [
    "# Net force data\n",
    "sns.lineplot(data = simulation_data, x='Time', y=simulation_data['net_force'])\n",
    "plt.pyplot.show()"
   ]
  },
  {
   "cell_type": "code",
   "execution_count": 57,
   "id": "86f8e8fb",
   "metadata": {},
   "outputs": [
    {
     "name": "stdout",
     "output_type": "stream",
     "text": [
      "      Time   mass      position    velocity    net_force  acceleration  \\\n",
      "261  131.0  200.0  32946.519633 -363.600988 -1946.955442     -9.734777   \n",
      "262  131.5  200.0  32763.502292 -368.468376 -1946.197120     -9.730986   \n",
      "263  132.0  200.0  32578.051730 -373.333869 -1945.401722     -9.727009   \n",
      "264  132.5  200.0  32390.168920 -378.197373 -1944.567334     -9.722837   \n",
      "265  133.0  200.0  32199.854878 -383.058792 -1943.691937     -9.718460   \n",
      "266  133.5  200.0  32007.110675 -387.918022 -1942.773400     -9.713867   \n",
      "267  134.0  200.0  31811.937431 -392.774955 -1941.809476     -9.709047   \n",
      "268  134.5  200.0  31614.336322 -397.629479 -1940.797793     -9.703989   \n",
      "269  135.0  200.0  31414.308584 -402.481473 -1939.735849     -9.698679   \n",
      "270  135.5  200.0  31211.855512 -407.330813 -1938.621002     -9.693105   \n",
      "271  136.0  200.0  31006.978468 -412.177365 -1937.450462     -9.687252   \n",
      "272  136.5  200.0  30799.678879 -417.020992 -1936.221286     -9.681106   \n",
      "273  137.0  200.0  30589.958245 -421.861545 -1934.930367     -9.674652   \n",
      "274  137.5  200.0  30377.818141 -426.698871 -1933.574421     -9.667872   \n",
      "275  138.0  200.0  30163.260221 -431.532807 -1932.149984     -9.660750   \n",
      "276  138.5  200.0  29946.286224 -436.363182 -1930.653394     -9.653267   \n",
      "277  139.0  200.0  29726.897975 -441.189815 -1929.080786     -9.645404   \n",
      "278  139.5  200.0  29505.097392 -446.012517 -1927.428077     -9.637140   \n",
      "279  140.0  200.0  29280.886491 -450.831087 -1925.690951     -9.628455   \n",
      "280  140.5  200.0  29054.267390 -455.645315 -1923.864852     -9.619324   \n",
      "281  141.0  200.0  28825.242317 -460.454977 -1921.944963     -9.609725   \n",
      "282  141.5  200.0  28593.813613 -465.259839 -1919.926197     -9.599631   \n",
      "283  142.0  200.0  28359.983739 -470.059655 -1917.803175     -9.589016   \n",
      "284  142.5  200.0  28123.755285 -474.854163 -1915.570216     -9.577851   \n",
      "285  143.0  200.0  27885.130972 -479.643088 -1913.221312     -9.566107   \n",
      "286  143.5  200.0  27644.113665 -484.426142 -1910.750116     -9.553751   \n",
      "287  144.0  200.0  27400.706375 -489.203017 -1908.149919     -9.540750   \n",
      "288  144.5  200.0  27154.912273 -493.973392 -1905.413627     -9.527068   \n",
      "289  145.0  200.0  26906.734694 -498.736926 -1902.533744     -9.512669   \n",
      "290  145.5  200.0  26656.177147 -503.493260 -1899.502343     -9.497512   \n",
      "291  146.0  200.0  26403.243328 -508.242016 -1896.311045     -9.481555   \n",
      "292  146.5  200.0  26147.937126 -512.982794 -1892.950993     -9.464755   \n",
      "293  147.0  200.0  25890.262635 -517.715171 -1889.412823     -9.447064   \n",
      "294  147.5  200.0  25630.224166 -522.438703 -1885.686635     -9.428433   \n",
      "295  148.0  200.0  25367.826261 -527.152920 -1881.761962     -9.408810   \n",
      "296  148.5  200.0  25103.073699 -531.857325 -1877.627741     -9.388139   \n",
      "297  149.0  200.0  24835.971520 -536.551394 -1873.272276     -9.366361   \n",
      "298  149.5  200.0  24566.525028 -541.234575 -1868.683201     -9.343416   \n",
      "299  150.0  200.0  24294.739813 -545.906283 -1863.847449     -9.319237   \n",
      "300  150.5  200.0  24020.621767 -550.565901 -1858.751204     -9.293756   \n",
      "301  151.0  200.0  23744.177097 -555.212779 -1853.379867     -9.266899   \n",
      "302  151.5  200.0  23465.412345 -559.846229 -1847.718008     -9.238590   \n",
      "303  152.0  200.0  23184.334407 -564.465524 -1841.749325     -9.208747   \n",
      "304  152.5  200.0  22900.950552 -569.069897 -1835.456589     -9.177283   \n",
      "305  153.0  200.0  22615.268443 -573.658539 -1828.821604     -9.144108   \n",
      "306  153.5  200.0  22327.296160 -578.230593 -1821.825147     -9.109126   \n",
      "307  154.0  200.0  22037.042223 -582.785156 -1814.446919     -9.072235   \n",
      "308  154.5  200.0  21744.515616 -587.321273 -1806.665486     -9.033327   \n",
      "309  155.0  200.0  21449.725813 -591.837937 -1798.458222     -8.992291   \n",
      "310  155.5  200.0  21152.682808 -596.334082 -1789.801248     -8.949006   \n",
      "311  156.0  200.0  20853.397142 -600.808585 -1780.669370     -8.903347   \n",
      "312  156.5  200.0  20551.879931 -605.260259 -1771.036012     -8.855180   \n",
      "313  157.0  200.0  20248.142904 -609.687849 -1760.873152     -8.804366   \n",
      "314  157.5  200.0  19942.198434 -614.090032 -1750.151253     -8.750756   \n",
      "315  158.0  200.0  19634.059573 -618.465410 -1738.839192     -8.694196   \n",
      "316  158.5  200.0  19323.740094 -622.812508 -1726.904189     -8.634521   \n",
      "317  159.0  200.0  19011.254525 -627.129768 -1714.311738     -8.571559   \n",
      "318  159.5  200.0  18696.618196 -631.415548 -1701.025526     -8.505128   \n",
      "319  160.0  200.0  18379.847281 -635.668111 -1687.007370     -8.435037   \n",
      "320  160.5  200.0  18060.958846 -639.885630 -1672.217136     -8.361086   \n",
      "\n",
      "     thrust  weight        drag  air_density  \n",
      "261   22000  1962.0   15.044558     0.022268  \n",
      "262   22000  1962.0   15.802880     0.022768  \n",
      "263   22000  1962.0   16.598278     0.023286  \n",
      "264   22000  1962.0   17.432666     0.023824  \n",
      "265   22000  1962.0   18.308063     0.024381  \n",
      "266   22000  1962.0   19.226600     0.024958  \n",
      "267   22000  1962.0   20.190524     0.025557  \n",
      "268   22000  1962.0   21.202207     0.026178  \n",
      "269   22000  1962.0   22.264151     0.026822  \n",
      "270   22000  1962.0   23.378998     0.027490  \n",
      "271   22000  1962.0   24.549538     0.028183  \n",
      "272   22000  1962.0   25.778714     0.028902  \n",
      "273   22000  1962.0   27.069633     0.029649  \n",
      "274   22000  1962.0   28.425579     0.030424  \n",
      "275   22000  1962.0   29.850016     0.031228  \n",
      "276   22000  1962.0   31.346606     0.032063  \n",
      "277   22000  1962.0   32.919214     0.032930  \n",
      "278   22000  1962.0   34.571923     0.033831  \n",
      "279   22000  1962.0   36.309049     0.034767  \n",
      "280   22000  1962.0   38.135148     0.035739  \n",
      "281   22000  1962.0   40.055037     0.036749  \n",
      "282   22000  1962.0   42.073803     0.037799  \n",
      "283   22000  1962.0   44.196825     0.038890  \n",
      "284   22000  1962.0   46.429784     0.040025  \n",
      "285   22000  1962.0   48.778688     0.041205  \n",
      "286   22000  1962.0   51.249884     0.042432  \n",
      "287   22000  1962.0   53.850081     0.043709  \n",
      "288   22000  1962.0   56.586373     0.045038  \n",
      "289   22000  1962.0   59.466256     0.046420  \n",
      "290   22000  1962.0   62.497657     0.047859  \n",
      "291   22000  1962.0   65.688955     0.049357  \n",
      "292   22000  1962.0   69.049007     0.050916  \n",
      "293   22000  1962.0   72.587177     0.052541  \n",
      "294   22000  1962.0   76.313365     0.054232  \n",
      "295   22000  1962.0   80.238038     0.055995  \n",
      "296   22000  1962.0   84.372259     0.057832  \n",
      "297   22000  1962.0   88.727724     0.059746  \n",
      "298   22000  1962.0   93.316799     0.061742  \n",
      "299   22000  1962.0   98.152551     0.063822  \n",
      "300   22000  1962.0  103.248796     0.065992  \n",
      "301   22000  1962.0  108.620133     0.068255  \n",
      "302   22000  1962.0  114.281992     0.070615  \n",
      "303   22000  1962.0  120.250675     0.073079  \n",
      "304   22000  1962.0  126.543411     0.075649  \n",
      "305   22000  1962.0  133.178396     0.078333  \n",
      "306   22000  1962.0  140.174853     0.081134  \n",
      "307   22000  1962.0  147.553081     0.084060  \n",
      "308   22000  1962.0  155.334514     0.087115  \n",
      "309   22000  1962.0  163.541778     0.090306  \n",
      "310   22000  1962.0  172.198752     0.093641  \n",
      "311   22000  1962.0  181.330630     0.097125  \n",
      "312   22000  1962.0  190.963988     0.100767  \n",
      "313   22000  1962.0  201.126848     0.104575  \n",
      "314   22000  1962.0  211.848747     0.108555  \n",
      "315   22000  1962.0  223.160808     0.112718  \n",
      "316   22000  1962.0  235.095811     0.117072  \n",
      "317   22000  1962.0  247.688262     0.121627  \n",
      "318   22000  1962.0  260.974474     0.126393  \n",
      "319   22000  1962.0  274.992630     0.131381  \n",
      "320   22000  1962.0  289.782864     0.136601  \n"
     ]
    }
   ],
   "source": [
    "print(simulation_data[simulation_data['drag'] < 300].tail(60))"
   ]
  },
  {
   "cell_type": "code",
   "execution_count": 53,
   "id": "2d9bdc27",
   "metadata": {},
   "outputs": [
    {
     "data": {
      "image/png": "[encoded data removed]",
      "text/plain": [
       "<Figure size 432x288 with 1 Axes>"
      ]
     },
     "metadata": {
      "needs_background": "light"
     },
     "output_type": "display_data"
    }
   ],
   "source": [
    "# Drag Data\n",
    "sns.lineplot(data = simulation_data, x='Time', y=simulation_data['drag'])\n",
    "plt.pyplot.show()"
   ]
  },
  {
   "cell_type": "code",
   "execution_count": 52,
   "id": "f411a049",
   "metadata": {},
   "outputs": [],
   "source": [
    "# Asking users to input variables. \n",
    "\n",
    "# while True:\n",
    "#     try:\n",
    "#         mass = int(input('Mass of Rocket (Value between 1 and 100): '))\n",
    "#         if mass < 1 or mass > 100:\n",
    "#             raise ValueError #this will send it to the print message and back to the input option\n",
    "#         break\n",
    "#     except ValueError:\n",
    "#         print(\"Invalid integer. The number must be in the range of 1-10.\")"
   ]
  },
  {
   "cell_type": "code",
   "execution_count": null,
   "id": "a8b20597",
   "metadata": {},
   "outputs": [],
   "source": []
  },
  {
   "cell_type": "code",
   "execution_count": null,
   "id": "a9a4f4f9",
   "metadata": {},
   "outputs": [],
   "source": []
  },
  {
   "cell_type": "code",
   "execution_count": null,
   "id": "8fcedcd0",
   "metadata": {},
   "outputs": [],
   "source": []
  },
  {
   "cell_type": "code",
   "execution_count": null,
   "id": "a388f806",
   "metadata": {},
   "outputs": [],
   "source": []
  },
  {
   "cell_type": "code",
   "execution_count": null,
   "id": "22390061",
   "metadata": {},
   "outputs": [],
   "source": []
  },
  {
   "cell_type": "code",
   "execution_count": null,
   "id": "555df530",
   "metadata": {},
   "outputs": [],
   "source": []
  },
  {
   "cell_type": "code",
   "execution_count": null,
   "id": "5f79af85",
   "metadata": {},
   "outputs": [],
   "source": []
  }
 ],
 "metadata": {
  "kernelspec": {
   "display_name": "Python 3 (ipykernel)",
   "language": "python",
   "name": "python3"
  },
  "language_info": {
   "codemirror_mode": {
    "name": "ipython",
    "version": 3
   },
   "file_extension": ".py",
   "mimetype": "text/x-python",
   "name": "python",
   "nbconvert_exporter": "python",
   "pygments_lexer": "ipython3",
   "version": "3.9.5"
  }
 },
 "nbformat": 4,
 "nbformat_minor": 5
}
