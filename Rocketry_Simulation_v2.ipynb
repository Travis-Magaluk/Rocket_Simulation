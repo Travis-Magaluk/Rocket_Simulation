{
 "cells": [
  {
   "cell_type": "markdown",
   "id": "cd146987",
   "metadata": {},
   "source": [
    "# Simulation of a Rocket Flight\n",
    "#### Hope is to make a workable simulation of a rocket's flight to explain physics priciples to my physics of rocketry flight. Thought it may be a good place to practice some math and real time data visulation. "
   ]
  },
  {
   "cell_type": "markdown",
   "id": "5ef19d61",
   "metadata": {},
   "source": [
    "Let's do a test flight with a super simple physics simulation. We will do a super basic projectile problem of a rocket.\n",
    "\n",
    "Define the problem: A rocket is shot up into the air with a mass X and the engine exerts a force of XX on the rocket for the duration of the rocket's booting through flight. Once the rocket engine burns out, the rocket is then in free fall until it reaches the ground. \n",
    "\n",
    "mass = m\n",
    "\n",
    "velocity = v\n",
    "\n",
    "force = F\n",
    "\n",
    "acceleration of rocket = a \n",
    "\n",
    "acceleration due to gravity = g = 9.8 m/s^2\n",
    "\n",
    "t = time\n",
    "\n",
    "∆t = timestep \n",
    "\n",
    "https://en.wikipedia.org/wiki/WAC_Corporal"
   ]
  },
  {
   "cell_type": "code",
   "execution_count": 12,
   "id": "cb523e0f",
   "metadata": {},
   "outputs": [],
   "source": [
    "import numpy as np\n",
    "import matplotlib as plt\n",
    "import seaborn as sns\n",
    "import pandas as pd\n",
    "import ipywidgets as widgets"
   ]
  },
  {
   "cell_type": "code",
   "execution_count": 13,
   "id": "9a5370ac",
   "metadata": {},
   "outputs": [],
   "source": [
    "def append_all(\n",
    "        time, \n",
    "        mass, \n",
    "        y_position, \n",
    "        y_velocity, \n",
    "        net_force, \n",
    "        acceleration, \n",
    "        thrust,\n",
    "        weight,\n",
    "        drag,\n",
    "        air_density):\n",
    "    \n",
    "    time_data.append(time)\n",
    "    mass_data.append(mass)\n",
    "    y_position_data.append(y_position)\n",
    "    y_velocity_data.append(y_velocity)\n",
    "    net_force_data.append(net_force)\n",
    "    acceleration_data.append(acceleration)\n",
    "    thrust_data.append(thrust)\n",
    "    weight_data.append(weight)\n",
    "    drag_data.append(drag)\n",
    "    air_density_data.append(air_density)\n",
    "\n",
    "def velocity_calc(\n",
    "        initial_velocity, \n",
    "        acceleration, \n",
    "        time_step):\n",
    "    velocity = (initial_velocity + acceleration * time_step)\n",
    "    return velocity\n",
    "\n",
    "def position_calc(\n",
    "        position, \n",
    "        velocity, \n",
    "        acceleration, \n",
    "        time_step):\n",
    "    position = (position + velocity * time_step \n",
    "                + 1/2 * acceleration * time_step ** 2)\n",
    "    return position\n",
    "\n",
    "def net_force_during_thrust_calc(\n",
    "        thrust, drag, weight):\n",
    "    net_force = thrust - (drag + weight)\n",
    "    return net_force\n",
    "    \n",
    "def net_force_after_thrust_calc(\n",
    "        drag, \n",
    "        weight, \n",
    "        velocity):\n",
    "    if velocity > 0:\n",
    "        net_force = -1 * (drag + weight)\n",
    "    else:\n",
    "        net_force = drag - weight\n",
    "    return net_force\n",
    "    \n",
    "def mass_calc(\n",
    "        rocket_mass, \n",
    "        total_fuel_mass, \n",
    "        fuel_consumption_rate, \n",
    "        time):\n",
    "    remaining_fuel = total_fuel_mass \\\n",
    "                     - (fuel_consumption_rate * time)\n",
    "    if remaining_fuel > 0:\n",
    "        mass = rocket_mass \\\n",
    "                + (total_fuel_mass - fuel_consumption_rate * time)\n",
    "    else: \n",
    "        mass = rocket_mass\n",
    "    return mass\n",
    "\n",
    "def acceleration_calc(\n",
    "        force, mass):\n",
    "    acceleration = net_force / mass\n",
    "    return acceleration\n",
    "    \n",
    "def weight_calc(mass):\n",
    "    weight = mass * g\n",
    "    return weight\n",
    "\n",
    "def air_density_calc(y_position): #Works generally up to 80000m\n",
    "    air_density = 1.31 * np.exp(-1.23*10**(-4)*y_position)\n",
    "    return air_density\n",
    "    \n",
    "def drag_calc(\n",
    "        drag_coeficient, \n",
    "        air_density, \n",
    "        cross_sectional_area, \n",
    "        velocity):\n",
    "    drag = 0.5 * drag_coeficient \\\n",
    "            * air_density * cross_sectional_area \\\n",
    "            * velocity ** 2\n",
    "    return drag\n",
    "\n",
    "def thrust_calc(thrust_force):\n",
    "    thrust = thrust_force\n",
    "    return thrust\n",
    "\n"
   ]
  },
  {
   "cell_type": "code",
   "execution_count": 29,
   "id": "f4463f51",
   "metadata": {
    "scrolled": true
   },
   "outputs": [
    {
     "name": "stdout",
     "output_type": "stream",
     "text": [
      "1783\n"
     ]
    }
   ],
   "source": [
    "# These will not change. These will stay constant and be our starting values during each simulation. \n",
    "\n",
    "TIME = 0 #Starting Time\n",
    "POSITION = 0 #Starting Position\n",
    "VELOCITY = 0 #Starting Velocity\n",
    "ACCELERATION = 0 #Starting Acceleration\n",
    "g = 9.81 #Acceleration due to gravity (Approximate for up to 25000m)\n",
    "\n",
    "# Time step we will use in our calculations\n",
    "t_step = 0.1\n",
    "\n",
    "\n",
    "# The below values will change depending on what the user inputs. Will do this eventually. \n",
    "mass_of_rocket = 200 #kg\n",
    "mass_of_rocket_fuel = 20 #kg\n",
    "consumption_rate_of_fuel = 2 #kg/s\n",
    "time_of_force = mass_of_rocket_fuel / consumption_rate_of_fuel\n",
    "force_of_thrust = 22000 #N\n",
    "\n",
    "#More variables to change\n",
    "drag_coeficient = 0.15\n",
    "cross_sectional_area = 0.07\n",
    "\n",
    "\n",
    "\n",
    "time_data = []\n",
    "mass_data = []\n",
    "y_position_data = []\n",
    "y_velocity_data = []\n",
    "net_force_data = []\n",
    "acceleration_data = []\n",
    "thrust_data = []\n",
    "weight_data = []\n",
    "drag_data = []\n",
    "air_density_data = []\n",
    "\n",
    "while True: \n",
    "    if TIME <= time_of_force:\n",
    "        TIME += t_step\n",
    "        mass = mass_calc(mass_of_rocket, mass_of_rocket_fuel, consumption_rate_of_fuel, TIME)\n",
    "        weight = weight_calc(mass)\n",
    "        air_density = air_density_calc(POSITION)\n",
    "        drag = drag_calc(drag_coeficient, air_density, cross_sectional_area, VELOCITY)\n",
    "        thrust = thrust_calc(force_of_thrust)\n",
    "        POSITION = position_calc(POSITION, VELOCITY, ACCELERATION, t_step)\n",
    "        VELOCITY = velocity_calc(VELOCITY, ACCELERATION, t_step)\n",
    "        net_force = net_force_during_thrust_calc(force_of_thrust, drag, weight)\n",
    "        ACCELERATION = acceleration_calc(net_force, mass)\n",
    "        append_all(TIME, mass, POSITION, VELOCITY, net_force, ACCELERATION, thrust, weight, drag, air_density)\n",
    "    elif POSITION > 0: \n",
    "        TIME += t_step\n",
    "        mass = mass_calc(mass_of_rocket, mass_of_rocket_fuel, consumption_rate_of_fuel, TIME)\n",
    "        weight = weight_calc(mass)\n",
    "        air_density = air_density_calc(POSITION)\n",
    "        drag = drag_calc(drag_coeficient, air_density, cross_sectional_area, VELOCITY)\n",
    "        thrust = thrust_calc(force_of_thrust)\n",
    "        POSITION = position_calc(POSITION, VELOCITY, ACCELERATION, t_step)\n",
    "        VELOCITY = velocity_calc(VELOCITY, ACCELERATION, t_step)\n",
    "        net_force = net_force_after_thrust_calc(drag, weight, VELOCITY)\n",
    "        ACCELERATION = acceleration_calc(net_force, mass)\n",
    "        append_all(TIME, mass, POSITION, VELOCITY, net_force, ACCELERATION, thrust, weight, drag, air_density)\n",
    "    else:\n",
    "        break\n",
    "\n",
    "        \n",
    "data_list = [mass_data, \n",
    "             y_position_data,\n",
    "             y_velocity_data,\n",
    "             net_force_data,\n",
    "             acceleration_data,\n",
    "             thrust_data,\n",
    "             weight_data,\n",
    "             drag_data,\n",
    "             air_density_data]\n",
    "data_headings = ['mass', \n",
    "                 'position', \n",
    "                 'velocity', \n",
    "                 'net_force', \n",
    "                 'acceleration', \n",
    "                 'thrust', \n",
    "                 'weight', \n",
    "                 'drag', \n",
    "                 'air_density']\n",
    "\n",
    "simulation_data = pd.DataFrame({\"Time\":time_data})\n",
    "\n",
    "for i in range(len(data_list)):\n",
    "    simulation_data[data_headings[i]] = data_list[i]\n",
    "    \n",
    "# print(simulation_data[['Time', 'position', 'velocity', 'acceleration', 'drag', 'air_density']].tail(60))\n",
    "\n",
    "print(len(simulation_data.drag))"
   ]
  },
  {
   "cell_type": "code",
   "execution_count": 15,
   "id": "bb0280fc",
   "metadata": {},
   "outputs": [
    {
     "name": "stdout",
     "output_type": "stream",
     "text": [
      "\n",
      "    The maximum altitude of this flight was 39704.18 meters.\n",
      "    The maximum velocity of this flight was 939.96 meters/second.\n",
      "    The maximum acceleration of this flight was 91.95 meters/second^2.\n",
      "    \n",
      "\n",
      "    The maximum net force during this flight was 19861.42 Newtons.\n",
      "    The maximum drag during this flight was 3470.38 Newtons.\n",
      "    \n",
      " \n",
      "\n",
      "    The minimum air density of this flight was 0.009916 (Insert air density units here).\n",
      "\n"
     ]
    }
   ],
   "source": [
    "max_altitude = round(simulation_data['position'].max(), 2)\n",
    "max_velocity = round(simulation_data['velocity'].max(), 2)\n",
    "max_acceleration = round(simulation_data['acceleration'].max(), 2)\n",
    "\n",
    "max_net_force = round(simulation_data['net_force'].max(), 2)\n",
    "max_drag =  round(simulation_data['drag'].max(), 2)\n",
    "\n",
    "min_air_density = round(simulation_data['air_density'].min(), 6)\n",
    "\n",
    "print(f\"\"\"\n",
    "    The maximum altitude of this flight was {max_altitude} meters.\n",
    "    The maximum velocity of this flight was {max_velocity} meters/second.\n",
    "    The maximum acceleration of this flight was {max_acceleration} meters/second^2.\n",
    "    \\n\n",
    "    The maximum net force during this flight was {max_net_force} Newtons.\n",
    "    The maximum drag during this flight was {max_drag} Newtons.\n",
    "    \\n \\n\n",
    "    The minimum air density of this flight was {min_air_density} (Insert air density units here).\n",
    "\"\"\")"
   ]
  },
  {
   "cell_type": "code",
   "execution_count": 16,
   "id": "8e8f64c9",
   "metadata": {
    "scrolled": true
   },
   "outputs": [
    {
     "data": {
      "image/png": "[encoded data removed]",
      "text/plain": [
       "<Figure size 432x288 with 1 Axes>"
      ]
     },
     "metadata": {
      "needs_background": "light"
     },
     "output_type": "display_data"
    }
   ],
   "source": [
    "# Position Data\n",
    "sns.lineplot(data = simulation_data, x='Time', y=simulation_data['position'])\n",
    "plt.pyplot.show()"
   ]
  },
  {
   "cell_type": "code",
   "execution_count": 17,
   "id": "3ed6a06f",
   "metadata": {},
   "outputs": [
    {
     "data": {
      "image/png": "[encoded data removed]",
      "text/plain": [
       "<Figure size 432x288 with 1 Axes>"
      ]
     },
     "metadata": {
      "needs_background": "light"
     },
     "output_type": "display_data"
    }
   ],
   "source": [
    "# Velocity Data\n",
    "sns.lineplot(data = simulation_data, x='Time', y=simulation_data['velocity'])\n",
    "plt.pyplot.show()"
   ]
  },
  {
   "cell_type": "code",
   "execution_count": 18,
   "id": "97c01ab6",
   "metadata": {},
   "outputs": [
    {
     "data": {
      "image/png": "[encoded data removed]",
      "text/plain": [
       "<Figure size 432x288 with 1 Axes>"
      ]
     },
     "metadata": {
      "needs_background": "light"
     },
     "output_type": "display_data"
    }
   ],
   "source": [
    "# Acceleration Data\n",
    "sns.lineplot(data = simulation_data, x='Time', y=simulation_data['acceleration'])\n",
    "plt.pyplot.show()"
   ]
  },
  {
   "cell_type": "code",
   "execution_count": 19,
   "id": "b6a91f47",
   "metadata": {},
   "outputs": [
    {
     "data": {
      "image/png": "[encoded data removed]",
      "text/plain": [
       "<Figure size 432x288 with 1 Axes>"
      ]
     },
     "metadata": {
      "needs_background": "light"
     },
     "output_type": "display_data"
    }
   ],
   "source": [
    "# Net force data\n",
    "sns.lineplot(data = simulation_data, x='Time', y=simulation_data['net_force'])\n",
    "plt.pyplot.show()"
   ]
  },
  {
   "cell_type": "code",
   "execution_count": 20,
   "id": "86f8e8fb",
   "metadata": {},
   "outputs": [],
   "source": [
    "# print(simulation_data[simulation_data['drag'] < 300].tail(60))"
   ]
  },
  {
   "cell_type": "code",
   "execution_count": 21,
   "id": "2d9bdc27",
   "metadata": {},
   "outputs": [
    {
     "data": {
      "image/png": "[encoded data removed]",
      "text/plain": [
       "<Figure size 432x288 with 1 Axes>"
      ]
     },
     "metadata": {
      "needs_background": "light"
     },
     "output_type": "display_data"
    }
   ],
   "source": [
    "# Drag Data\n",
    "sns.lineplot(data = simulation_data, x='Time', y=simulation_data['drag'])\n",
    "plt.pyplot.show()"
   ]
  },
  {
   "cell_type": "code",
   "execution_count": 22,
   "id": "f411a049",
   "metadata": {},
   "outputs": [],
   "source": [
    "# Asking users to input variables. \n",
    "\n",
    "# while True:\n",
    "#     try:\n",
    "#         mass = int(input('Mass of Rocket (Value between 1 and 100): '))\n",
    "#         if mass < 1 or mass > 100:\n",
    "#             raise ValueError #this will send it to the print message and back to the input option\n",
    "#         break\n",
    "#     except ValueError:\n",
    "#         print(\"Invalid integer. The number must be in the range of 1-10.\")"
   ]
  },
  {
   "cell_type": "code",
   "execution_count": null,
   "id": "a8b20597",
   "metadata": {},
   "outputs": [],
   "source": []
  },
  {
   "cell_type": "code",
   "execution_count": null,
   "id": "a9a4f4f9",
   "metadata": {},
   "outputs": [],
   "source": []
  },
  {
   "cell_type": "code",
   "execution_count": null,
   "id": "8fcedcd0",
   "metadata": {},
   "outputs": [],
   "source": []
  },
  {
   "cell_type": "code",
   "execution_count": null,
   "id": "a388f806",
   "metadata": {},
   "outputs": [],
   "source": []
  },
  {
   "cell_type": "code",
   "execution_count": null,
   "id": "22390061",
   "metadata": {},
   "outputs": [],
   "source": []
  },
  {
   "cell_type": "code",
   "execution_count": null,
   "id": "555df530",
   "metadata": {},
   "outputs": [],
   "source": []
  },
  {
   "cell_type": "code",
   "execution_count": null,
   "id": "5f79af85",
   "metadata": {},
   "outputs": [],
   "source": []
  }
 ],
 "metadata": {
  "kernelspec": {
   "display_name": "Python 3 (ipykernel)",
   "language": "python",
   "name": "python3"
  },
  "language_info": {
   "codemirror_mode": {
    "name": "ipython",
    "version": 3
   },
   "file_extension": ".py",
   "mimetype": "text/x-python",
   "name": "python",
   "nbconvert_exporter": "python",
   "pygments_lexer": "ipython3",
   "version": "3.9.5"
  }
 },
 "nbformat": 4,
 "nbformat_minor": 5
}
